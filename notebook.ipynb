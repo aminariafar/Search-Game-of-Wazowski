{
 "cells": [
  {
   "cell_type": "code",
   "execution_count": 1,
   "metadata": {},
   "outputs": [],
   "source": [
    "from game import Game\n",
    "import time\n",
    "import os\n",
    "import re"
   ]
  },
  {
   "cell_type": "markdown",
   "metadata": {},
   "source": [
    "## Load maps"
   ]
  },
  {
   "cell_type": "code",
   "execution_count": 2,
   "metadata": {},
   "outputs": [],
   "source": [
    "def extract_map_files(directory):\n",
    "    pattern = re.compile(r'^map(\\d+)\\.txt$')\n",
    "    map_file_indices = []\n",
    "\n",
    "    for file_name in os.listdir(directory):\n",
    "        match = pattern.match(file_name)\n",
    "        if match:\n",
    "            map_file_indices.append(match.group(1))\n",
    "\n",
    "    return [int(idx) for idx in map_file_indices]\n",
    "\n",
    "def is_valid_input(map, indices, algorithm, solvers):\n",
    "    valid_input = True\n",
    "    if map not in indices:\n",
    "        print(f\"Map index out of range. Please choose within range {min(indices)} to {max(indices)}\")\n",
    "        valid_input = False\n",
    "    if algorithm not in solvers.keys():    \n",
    "        print(f\"{algorithm} is not a defined algorithm. Please choose from\", *[f\"{solver} ({i+1})  \" for i, solver in enumerate(solvers.keys())])\n",
    "        valid_input = False\n",
    "    return valid_input\n",
    "\n",
    "def load_map(map_index):  \n",
    "    file_name = \"map\" + str(map_index) + \".txt\"\n",
    "    with open('./assets/maps/' + file_name) as f:\n",
    "        game_map = f.read()\n",
    "    return game_map\n",
    "\n",
    "map_file_indices = extract_map_files(\"./assets/maps/\")"
   ]
  },
  {
   "cell_type": "markdown",
   "metadata": {},
   "source": [
    "## Tutorial"
   ]
  },
  {
   "cell_type": "code",
   "execution_count": 3,
   "metadata": {},
   "outputs": [
    {
     "name": "stdout",
     "output_type": "stream",
     "text": [
      "This is an example of the game map:\n",
      "W\tP1\tH\tW\tW\tW\tW\n",
      "W\tW\tW\tG1\tW\tW\tW\n",
      "W\tW\tW\tB1\tW\tW\tW\n",
      "W\tG2\tB2\t.\tP1\tW\tW\n",
      "W\tW\tW\tB3\tW\tW\tW\n",
      "W\tW\tW\tG3\tW\tW\tW\n",
      "W\tW\tW\tW\tW\tW\tW\n"
     ]
    }
   ],
   "source": [
    "print(\"This is an example of the game map:\")\n",
    "map = load_map(2)\n",
    "game = Game(map)\n",
    "game.display_map()"
   ]
  },
  {
   "cell_type": "code",
   "execution_count": 4,
   "metadata": {},
   "outputs": [
    {
     "data": {
      "text/plain": [
       "[(2, 3), (3, 2), (4, 3)]"
      ]
     },
     "execution_count": 4,
     "metadata": {},
     "output_type": "execute_result"
    }
   ],
   "source": [
    "game.get_box_locations()"
   ]
  },
  {
   "cell_type": "code",
   "execution_count": 5,
   "metadata": {},
   "outputs": [
    {
     "data": {
      "text/plain": [
       "[(1, 3), (3, 1), (5, 3)]"
      ]
     },
     "execution_count": 5,
     "metadata": {},
     "output_type": "execute_result"
    }
   ],
   "source": [
    "game.get_goal_locations()"
   ]
  },
  {
   "cell_type": "code",
   "execution_count": 6,
   "metadata": {},
   "outputs": [
    {
     "data": {
      "text/plain": [
       "(0, 2)"
      ]
     },
     "execution_count": 6,
     "metadata": {},
     "output_type": "execute_result"
    }
   ],
   "source": [
    "game.get_player_position()"
   ]
  },
  {
   "cell_type": "markdown",
   "metadata": {},
   "source": [
    "- W : Wall\n",
    "- H : Human\n",
    "- B : Box\n",
    "- P : Portal\n",
    "- G : Goal"
   ]
  },
  {
   "cell_type": "code",
   "execution_count": 7,
   "metadata": {},
   "outputs": [
    {
     "name": "stdout",
     "output_type": "stream",
     "text": [
      "Move U is valid: False\n",
      "Move D is valid: False\n",
      "Move R is valid: False\n",
      "Move L is valid: True\n",
      "W\tP1\t.\tW\tW\tW\tW\n",
      "W\tW\tW\tG1\tW\tW\tW\n",
      "W\tW\tW\tB1\tW\tW\tW\n",
      "W\tG2\tB2\tH\tP1\tW\tW\n",
      "W\tW\tW\tB3\tW\tW\tW\n",
      "W\tW\tW\tG3\tW\tW\tW\n",
      "W\tW\tW\tW\tW\tW\tW\n"
     ]
    }
   ],
   "source": [
    "for direction in ['U', 'D', 'R', 'L']:\n",
    "    result = game.apply_move(direction)\n",
    "    print(f\"Move {direction} is valid: {result}\")\n",
    "    if result:\n",
    "        game.display_map()"
   ]
  },
  {
   "cell_type": "code",
   "execution_count": 8,
   "metadata": {},
   "outputs": [
    {
     "name": "stdout",
     "output_type": "stream",
     "text": [
      "W\tP1\t.\tW\tW\tW\tW\n",
      "W\tW\tW\tG1/B1\tW\tW\tW\n",
      "W\tW\tW\tH\tW\tW\tW\n",
      "W\tG2\tB2\t.\tP1\tW\tW\n",
      "W\tW\tW\tB3\tW\tW\tW\n",
      "W\tW\tW\tG3\tW\tW\tW\n",
      "W\tW\tW\tW\tW\tW\tW\n"
     ]
    }
   ],
   "source": [
    "game.apply_move('U')\n",
    "game.display_map()"
   ]
  },
  {
   "cell_type": "code",
   "execution_count": 9,
   "metadata": {},
   "outputs": [
    {
     "name": "stdout",
     "output_type": "stream",
     "text": [
      "W\tP1\t.\tW\tW\tW\tW\n",
      "W\tW\tW\tG1/B1\tW\tW\tW\n",
      "W\tW\tW\t.\tW\tW\tW\n",
      "W\tG2/B2\t.\t.\tP1\tW\tW\n",
      "W\tW\tW\tH\tW\tW\tW\n",
      "W\tW\tW\tG3/B3\tW\tW\tW\n",
      "W\tW\tW\tW\tW\tW\tW\n",
      "Is game won? True\n"
     ]
    }
   ],
   "source": [
    "game.apply_moves(['D', 'L', 'R', 'D']) \n",
    "game.display_map()\n",
    "print(\"Is game won?\", game.is_game_won())"
   ]
  },
  {
   "cell_type": "markdown",
   "metadata": {},
   "source": [
    "In our problem, I defined the state as a list consisting of the position of the player and the position of the boxes. The simplest definition would be the position of the player but this is not a good choice; the player might return to the same spot while the positions of the boxes are not fixed. So, I defined the state as the list of positions of the boxes.  </br> </br>\n",
    "The actions are defined as the directions that the player can go in each step; U, D, L and R.  </br> </br>\n",
    "Also in this problem, goal test is testing wether each box is moved their corresponding goal. "
   ]
  },
  {
   "cell_type": "markdown",
   "metadata": {},
   "source": [
    "## Solvers"
   ]
  },
  {
   "cell_type": "markdown",
   "metadata": {},
   "source": [
    "To optimize the search space, we can only go through the paths that their moves are valid (Game.apply_move() returns True for them). As an example, we don't have to consider and expand a move that ends up exiting the game map. Searching all possible paths (searching ${(U | D | L | R)}^+$) is unneccesary as a lot of paths are invalid."
   ]
  },
  {
   "cell_type": "markdown",
   "metadata": {},
   "source": [
    "### BFS"
   ]
  },
  {
   "cell_type": "markdown",
   "metadata": {},
   "source": [
    "BFS is a graph search algorithm that searches the search space row by row and explores all nodes at the current depth level before moving deeper. The advantages of BFS is that it is a complete and optimal algorithm. But on the other hand, its' space complexity is high ($O(b^d)$) so it is not suitable for large maps with high branching factor."
   ]
  },
  {
   "cell_type": "code",
   "execution_count": 10,
   "metadata": {},
   "outputs": [],
   "source": [
    "from collections import deque"
   ]
  },
  {
   "cell_type": "code",
   "execution_count": 11,
   "metadata": {},
   "outputs": [],
   "source": [
    "def solver_bfs(game_map):\n",
    "   game = Game(game_map)\n",
    "\n",
    "   player_loc = game.get_player_position()\n",
    "   box_locs = game.get_box_locations()\n",
    "   path = []\n",
    "   root_state = [player_loc] + box_locs + [path]\n",
    "   visited = set()\n",
    "   q = deque()\n",
    "   q.append(root_state)\n",
    "\n",
    "   while q:\n",
    "      state = q.popleft()\n",
    "      path = state[-1]\n",
    "\n",
    "      if tuple(state[:-1]) in visited:\n",
    "         continue\n",
    "\n",
    "      else:\n",
    "         visited.add(tuple(state[:-1]))\n",
    "\n",
    "         parent_state = state\n",
    "         for d in ['U', 'D', 'L', 'R']:\n",
    "            game.set_player_position(state[0])\n",
    "            game.set_box_positions(state[1:-1])\n",
    "            res = game.apply_move(d)\n",
    "\n",
    "            if not res:\n",
    "               continue\n",
    "   \n",
    "            else:\n",
    "               if game.is_game_won():\n",
    "                  return path + [d], len(visited)\n",
    "               \n",
    "               else:\n",
    "                  box_locs = game.get_box_locations()\n",
    "                  player_loc = game.get_player_position()\n",
    "                  new_state = [player_loc] + box_locs + [path[:] + [d]]\n",
    "                  q.append(new_state)\n",
    "\n",
    "                  game.set_player_position(parent_state[0])\n",
    "                  game.set_box_positions(parent_state[1: -1])\n",
    "\n",
    "   return None, 0"
   ]
  },
  {
   "cell_type": "markdown",
   "metadata": {},
   "source": [
    "### DFS"
   ]
  },
  {
   "cell_type": "markdown",
   "metadata": {},
   "source": [
    "DFS is another graph traversal algorithm that explores as far as possible along one branch before backtracking. It uses a stack (LIFO) (can be implemented recursively or iteratively). Its' advantage is that it is more memory efficient than BFS ($O(d)$) and it is a complete algorithm. But it does not guarantee finding the optimal solution so it is not optimal."
   ]
  },
  {
   "cell_type": "code",
   "execution_count": 12,
   "metadata": {},
   "outputs": [],
   "source": [
    "# TODO: Must return moves, number of visited states\n",
    "def solver_dfs(game_map):\n",
    "   game = Game(game_map)\n",
    "   # game.display_map()\n",
    "   \n",
    "   ans_path = None\n",
    "   visited = set()\n",
    "\n",
    "   player_loc = game.get_player_position()\n",
    "   box_locs = game.get_box_locations()\n",
    "   path = []\n",
    "\n",
    "   root_state = [player_loc] + box_locs + [path]\n",
    "\n",
    "   ans_path = dfs(game, visited, root_state, ans_path)\n",
    "\n",
    "   if ans_path is None:\n",
    "      return None, 0\n",
    "   else:\n",
    "      return ans_path, len(visited)\n",
    "\n",
    "def dfs(game, visited, state, ans_path):\n",
    "   if tuple(state[:-1]) in visited:\n",
    "      return ans_path\n",
    "\n",
    "   visited.add(tuple(state[:-1]))\n",
    "\n",
    "   for d in ['U', 'D', 'L', 'R']:\n",
    "      game.set_player_position(state[0])\n",
    "      game.set_box_positions(state[1:-1])\n",
    "\n",
    "      move_res = game.apply_move(d)\n",
    "\n",
    "      if move_res:\n",
    "         new_box_locs = game.get_box_locations()\n",
    "         new_player_loc = game.get_player_position()\n",
    "         path = state[-1]\n",
    "         new_state = [new_player_loc] + new_box_locs + [path + [d]]\n",
    "\n",
    "         if game.is_game_won():\n",
    "            ans_path = new_state[-1]\n",
    "            return ans_path\n",
    "\n",
    "         ans_path = dfs(game, visited, new_state, ans_path)\n",
    "         game.set_player_position(state[0])\n",
    "         game.set_box_positions(state[1:-1])\n",
    "\n",
    "   return ans_path"
   ]
  },
  {
   "cell_type": "markdown",
   "metadata": {},
   "source": [
    "### IDS"
   ]
  },
  {
   "cell_type": "markdown",
   "metadata": {},
   "source": [
    "IDS is a combination of BFS and DFS. This algorithm iteratively runs DFS with a maximum depth which this maximum depth is increased by one each time. IDS solves the memory issue of BFS and the completeness issue of DFS. It combines the advantages of both; it uses low memory (O(d)) and it is complete and optimal (if all costs are uniform)."
   ]
  },
  {
   "cell_type": "code",
   "execution_count": 27,
   "metadata": {},
   "outputs": [],
   "source": [
    "# TODO: Must return moves, number of visited states\n",
    "def solver_ids(game_map):\n",
    "   game = Game(game_map)\n",
    "   depth_limit = 50\n",
    "\n",
    "   player_loc = game.get_player_position()\n",
    "   box_locs = game.get_box_locations()\n",
    "   path = []\n",
    "   root_state = [player_loc] + box_locs + [path]\n",
    "\n",
    "   for limit in range(1, depth_limit + 1):\n",
    "      visited = set()\n",
    "      path, found = limited_dfs(game, visited, root_state, limit)\n",
    "      if found:\n",
    "         return path, len(visited)\n",
    "   \n",
    "   return None, 0\n",
    "\n",
    "def limited_dfs(game, visited, state, depth_limit):\n",
    "\n",
    "   if len(state[-1]) >= depth_limit:\n",
    "    return None, False\n",
    "   \n",
    "   if tuple(state[:-1] + [len(state[-1])]) in visited:\n",
    "      return None, False\n",
    "\n",
    "   visited.add(tuple(state[:-1] + [len(state[-1])]))\n",
    "\n",
    "   for d in ['U', 'D', 'L', 'R']:\n",
    "      game.set_player_position(state[0])\n",
    "      game.set_box_positions(state[1:-1])\n",
    "\n",
    "      move_res = game.apply_move(d)\n",
    "\n",
    "      if move_res:\n",
    "         new_box_locs = game.get_box_locations()\n",
    "         new_player_loc = game.get_player_position()\n",
    "         path = state[-1]\n",
    "         new_state = [new_player_loc] + new_box_locs + [path + [d]]\n",
    "\n",
    "         if game.is_game_won():\n",
    "            path = new_state[-1]\n",
    "            return path, True\n",
    "\n",
    "         path, found = limited_dfs(game, visited, new_state, depth_limit)\n",
    "\n",
    "         if found:\n",
    "            return path, True\n",
    "\n",
    "   return None, False"
   ]
  },
  {
   "cell_type": "markdown",
   "metadata": {},
   "source": [
    "### A*"
   ]
  },
  {
   "cell_type": "markdown",
   "metadata": {},
   "source": [
    "A* is a graph search algorithm that finds the shortest path from a start node to a goal node using both cost and heuristics. It expands the node n where f(n) = g(n) + h(n) is the lowest at each step. Here g(n) refers to the cost of the path and h(n) is the heuristic function that estimates the distance from the goal node to the current node. The algorithm is guaranteed to find the optimal path to the goal node if we are using tree search with admissible heuristic function. </br> </br>\n",
    "The heuristic function I used for this problem considers the fact that the map might have portals so the manhattan distance between the player and the box is not necessarily an admissible heuristic. For each box, the path consists of two parts; 1) The path that the player takes to reach the box and 2) The path from the box to its' corresponding goal. In each of the two parts a portal might or might not be used. I set the heuristic as the minimum manhattan distance considering wether the player does or does not use a portal. This heuristic is admissible as it is always a lower bound for the distance."
   ]
  },
  {
   "cell_type": "code",
   "execution_count": 107,
   "metadata": {},
   "outputs": [],
   "source": [
    "# TODO\n",
    "def manhattan_distance(pos1, pos2):\n",
    "   return abs(pos1[0] - pos2[0]) + abs(pos1[1] - pos2[1])\n",
    "\n",
    "def heuristic(game):\n",
    "   box_locs = game.get_box_locations()\n",
    "   goal_locs = game.get_goal_locations()\n",
    "   portal_locs = game.get_portal_locations()\n",
    "   player_loc = game.get_player_position()\n",
    "\n",
    "   cost_approx = 0\n",
    "   for i in range(len(box_locs)):\n",
    "      curr_box = box_locs[i]\n",
    "      curr_goal = goal_locs[i]\n",
    "      \n",
    "      if (curr_box == curr_goal):\n",
    "         continue\n",
    "\n",
    "      player_dist = manhattan_distance(player_loc, curr_box)\n",
    "      box_dist = manhattan_distance(curr_box, curr_goal)\n",
    "\n",
    "      box_dist1 = 1000\n",
    "      player_dist1 = 1000\n",
    "      for j in range(len(portal_locs)):\n",
    "         curr_portal = portal_locs[j]\n",
    "         \n",
    "         box_dist1 = min(manhattan_distance(curr_box, curr_portal[0]) + manhattan_distance(curr_goal, curr_portal[1]) - 1, box_dist1)\n",
    "         box_dist1 = min(manhattan_distance(curr_box, curr_portal[1]) + manhattan_distance(curr_goal, curr_portal[0]) - 1, box_dist1)\n",
    "\n",
    "         player_dist1 = min(manhattan_distance(player_loc, curr_portal[0]) + manhattan_distance(box_locs[i], curr_portal[1]) - 1, player_dist1)\n",
    "         player_dist1 = min(manhattan_distance(player_loc, curr_portal[1]) + manhattan_distance(box_locs[i], curr_portal[0]) - 1, player_dist1)\n",
    "         \n",
    "      cost_approx += min(box_dist, box_dist1) + min(player_dist, player_dist1)\n",
    "   \n",
    "   return cost_approx"
   ]
  },
  {
   "cell_type": "code",
   "execution_count": 260,
   "metadata": {},
   "outputs": [],
   "source": [
    "def astar(game, visited, state, w = 1):\n",
    "   if tuple(state[:-1]) in visited:\n",
    "      return None, False\n",
    "\n",
    "   visited.add(tuple(state[:-1]))\n",
    "\n",
    "   valid_moves = []\n",
    "   move_costs = []\n",
    "\n",
    "   for d in ['U', 'D', 'L', 'R']:\n",
    "      game.set_player_position(state[0])\n",
    "      game.set_box_positions(state[1:-1])\n",
    "\n",
    "      if game.apply_move(d):\n",
    "         valid_moves.append(d)\n",
    "         cost = len(state[-1]) + w * heuristic(game)\n",
    "         move_costs.append(cost)\n",
    "         game.set_player_position(state[0])\n",
    "         game.set_box_positions(state[1:-1])\n",
    "\n",
    "   # game.display_map()\n",
    "   # print(state[-1])\n",
    "   # print(move_costs)\n",
    "   # print(valid_moves)\n",
    "   \n",
    "   sorted_costs = sorted(enumerate(move_costs), key = lambda x: x[1])\n",
    "   original_indexes = [idx for idx, val in sorted_costs]\n",
    "\n",
    "   for idx in original_indexes:\n",
    "      d = valid_moves[idx]\n",
    "      game.set_player_position(state[0])\n",
    "      game.set_box_positions(state[1:-1])\n",
    "      game.apply_move(d)\n",
    "      new_box_locs = game.get_box_locations()\n",
    "      new_player_loc = game.get_player_position()\n",
    "      path = state[-1]\n",
    "      new_state = [new_player_loc] + new_box_locs + [path + [d]]\n",
    "\n",
    "      if game.is_game_won():\n",
    "         path = new_state[-1]\n",
    "         return path, True\n",
    "\n",
    "      path, found = astar(game, visited, new_state, w)\n",
    "\n",
    "      if found:\n",
    "         return path, True\n",
    "   \n",
    "   return None, False\n",
    "\n",
    "# TODO: Must return moves, number of visited states\n",
    "def solver_astar(game_map, heuristic_func=heuristic, weight=1):\n",
    "   game = Game(game_map)\n",
    "   # game.display_map()\n",
    "   player_loc = game.get_player_position()\n",
    "   box_locs = game.get_box_locations()\n",
    "   path = []\n",
    "   visited = set()\n",
    "   root_state = [player_loc] + box_locs + [path]\n",
    "\n",
    "   path, found = astar(game, visited, root_state, weight)\n",
    "   \n",
    "   if found:\n",
    "      return path, len(visited)\n",
    "   else:\n",
    "      return None, 0"
   ]
  },
  {
   "cell_type": "markdown",
   "metadata": {},
   "source": [
    "## Solve"
   ]
  },
  {
   "cell_type": "code",
   "execution_count": 261,
   "metadata": {},
   "outputs": [],
   "source": [
    "SOLVERS = {\n",
    "    \"BFS\": solver_bfs,\n",
    "    \"DFS\": solver_dfs,\n",
    "    \"IDS\": solver_ids,\n",
    "    \"A*\": solver_astar\n",
    "}"
   ]
  },
  {
   "cell_type": "code",
   "execution_count": 17,
   "metadata": {},
   "outputs": [],
   "source": [
    "def solve(map, method):  \n",
    "    \n",
    "    if not is_valid_input(map, map_file_indices, method, SOLVERS):\n",
    "        return\n",
    "    \n",
    "    file_name = \"map\" + str(map) + \".txt\"\n",
    "    with open('./assets/maps/' + file_name) as f:\n",
    "        game_map = f.read()\n",
    "    \n",
    "    start_time = time.time()\n",
    "    moves, numof_visited_states = SOLVERS[method](game_map)\n",
    "    end_time = time.time()\n",
    "    print(f\"{method} took {round(end_time - start_time, 2)} seconds on map {map} and visited {numof_visited_states} states.\")\n",
    "    \n",
    "    if moves is None:\n",
    "        print(\"No Solution Found!\")\n",
    "    else:\n",
    "        print(f\"{len(moves)} moves were used: {moves}\")\n",
    "            "
   ]
  },
  {
   "cell_type": "code",
   "execution_count": 275,
   "metadata": {},
   "outputs": [
    {
     "name": "stdout",
     "output_type": "stream",
     "text": [
      "A* took 5.65 seconds on map 10 and visited 191233 states.\n",
      "280 moves were used: ['U', 'U', 'L', 'D', 'D', 'D', 'R', 'R', 'U', 'U', 'U', 'R', 'R', 'R', 'R', 'D', 'R', 'U', 'L', 'L', 'D', 'L', 'U', 'L', 'U', 'U', 'R', 'D', 'L', 'D', 'D', 'R', 'U', 'R', 'D', 'D', 'R', 'U', 'R', 'D', 'D', 'L', 'U', 'R', 'U', 'L', 'D', 'L', 'U', 'L', 'D', 'R', 'U', 'R', 'R', 'R', 'R', 'D', 'D', 'L', 'R', 'U', 'L', 'D', 'L', 'L', 'D', 'R', 'R', 'D', 'L', 'L', 'L', 'U', 'U', 'U', 'R', 'U', 'R', 'D', 'R', 'D', 'L', 'U', 'L', 'L', 'D', 'D', 'R', 'U', 'R', 'U', 'L', 'D', 'U', 'L', 'D', 'L', 'U', 'L', 'U', 'R', 'U', 'R', 'D', 'D', 'D', 'L', 'U', 'R', 'R', 'R', 'R', 'D', 'D', 'L', 'D', 'D', 'D', 'R', 'U', 'U', 'D', 'D', 'L', 'U', 'U', 'U', 'R', 'U', 'L', 'L', 'L', 'D', 'D', 'L', 'L', 'U', 'R', 'R', 'U', 'R', 'U', 'L', 'L', 'D', 'L', 'U', 'R', 'D', 'L', 'U', 'U', 'L', 'D', 'R', 'D', 'D', 'R', 'R', 'U', 'D', 'L', 'U', 'U', 'R', 'U', 'R', 'D', 'D', 'U', 'U', 'L', 'D', 'D', 'D', 'R', 'U', 'L', 'D', 'D', 'D', 'D', 'R', 'U', 'U', 'D', 'D', 'L', 'U', 'U', 'U', 'U', 'R', 'D', 'L', 'U', 'L', 'U', 'U', 'L', 'D', 'L', 'U', 'R', 'R', 'U', 'R', 'D', 'D', 'U', 'R', 'D', 'D', 'L', 'U', 'L', 'D', 'D', 'D', 'D', 'R', 'U', 'D', 'L', 'U', 'U', 'U', 'R', 'U', 'U', 'L', 'L', 'D', 'D', 'L', 'U', 'L', 'D', 'R', 'U', 'L', 'D', 'D', 'R', 'U', 'U', 'L', 'D', 'U', 'R', 'D', 'D', 'R', 'R', 'U', 'U', 'R', 'R', 'D', 'D', 'D', 'L', 'U', 'L', 'D', 'D', 'D', 'D', 'R', 'R', 'U', 'U', 'L', 'L', 'L', 'L', 'U', 'L', 'D']\n"
     ]
    }
   ],
   "source": [
    "solve(10, \"A*\")"
   ]
  },
  {
   "cell_type": "code",
   "execution_count": 183,
   "metadata": {},
   "outputs": [],
   "source": [
    "def solve_all():\n",
    "    for map in range(min(map_file_indices), max(map_file_indices) + 1):\n",
    "        for method in SOLVERS.keys():\n",
    "            solve(map, method)\n",
    "            "
   ]
  },
  {
   "cell_type": "code",
   "execution_count": null,
   "metadata": {},
   "outputs": [],
   "source": [
    "solve_all() # Solve all maps using all methods"
   ]
  },
  {
   "cell_type": "markdown",
   "metadata": {},
   "source": [
    "| Map       | No. of Visited States | Problem Solution                                                                                                   | Average Execution Time (s) |\n",
    "|-----------|----------------------:|-------------------------------------------------------------------------------------------------------------------|---------------------------:|\n",
    "| Map 1 - BFS  | 40  | ['U', 'D', 'D', 'U', 'L', 'R', 'R']                                                                                      | 0.0  |\n",
    "| Map 2 - BFS  | 18  | ['L', 'U', 'D', 'D', 'U', 'L']                                                                                         | 0.0  |\n",
    "| Map 3 - BFS  | 111 | ['U', 'L', 'D', 'D', 'U', 'U', 'U', 'U', 'R', 'D', 'D', 'D', 'D']                                                       | 0.0  |\n",
    "| Map 5 - BFS  | 4770 | ['U', 'L', 'D', 'D', 'R', 'D', 'L', 'L', 'L', 'U', 'U', 'U', 'R', 'U', 'L']                                           | 0.05 |\n",
    "| Map 6 - BFS  | 34  | ['U', 'U', 'U', 'U', 'U', 'R', 'R', 'R', 'L', 'L', 'L', 'L', 'L', 'L', 'L', 'D', 'D', 'D', 'D', 'D', 'D', 'D', 'D', 'D', 'R', 'D', 'L', 'R', 'R', 'R', 'R', 'R', 'R', 'R'] | 0.16 |\n",
    "| Map 7 - BFS  | 34  | ['R', 'U', 'R', 'R', 'D', 'D', 'D', 'D', 'L', 'D', 'R', 'U', 'U', 'U', 'U', 'L', 'L', 'L', 'R', 'D', 'R', 'D', 'R', 'D', 'D', 'L', 'L', 'D', 'L', 'L', 'U', 'U', 'D', 'R'] | 5.52 |\n",
    "| Map 8 - BFS  | 14  | ['U', 'U', 'R', 'D', 'L', 'D', 'R', 'R', 'D', 'R', 'U', 'R', 'D', 'R']                                                 | 0.06 |\n",
    "| Map 10 - BFS | 228003 | ['R', 'R', 'R', 'R', 'R', 'D', 'R', 'U', 'L', 'U', 'R', 'U', 'L', 'L', 'L', 'U', 'L', 'D', 'R', 'U', 'U', 'U', 'L', 'D', 'R', 'D', 'L', 'D', 'R', 'R', 'D', 'R', 'U', 'L', 'U', 'R', 'U', 'R', 'D', 'D', 'R', 'D', 'L', 'L', 'L', 'L'] | 3.25 |\n",
    "| Map 1 - DFS  | 43  | ['D', 'U', 'L', 'R', 'R', 'L', 'U']                                                                                   | 0.0  |\n",
    "| Map 2 - DFS  | 20  | ['L', 'D', 'U', 'L', 'R', 'U']                                                                                        | 0.0  |\n",
    "| Map 3 - DFS  | 134 | ['U', 'L', 'U', 'U', 'R', 'D', 'U', 'L', 'D', 'D', 'D', 'U', 'U', 'U', 'R', 'D', 'D', 'D', 'D', 'U', 'U', 'U', 'U', 'L', 'D', 'D', 'D', 'D'] | 0.0  |\n",
    "| Map 5 - DFS  | 13769 | (Long solution path omitted for readability)                                                                       | 0.135 |\n",
    "| Map 1 - IDS  | 18  | ['U', 'D', 'D', 'U', 'L', 'R', 'R']                                                                                   | 0.0  |\n",
    "| Map 2 - IDS  | 8   | ['L', 'U', 'D', 'D', 'U', 'L']                                                                                       | 0.0  |\n",
    "| Map 3 - IDS  | 292 | ['U', 'L', 'D', 'D', 'U', 'U', 'U', 'U', 'R', 'D', 'D', 'D', 'D']                                                    | 0.1  |\n",
    "| Map 5 - IDS  | 6288 | ['U', 'L', 'D', 'D', 'R', 'D', 'L', 'L', 'L', 'U', 'U', 'U', 'R', 'U', 'L']                                         | 0.2  |\n",
    "| Map 8 - IDS  | 4991 | ['U', 'U', 'R', 'D', 'L', 'D', 'R', 'R', 'D', 'R', 'U', 'R', 'D', 'R']                                             | 0.2  |"
   ]
  },
  {
   "cell_type": "markdown",
   "metadata": {},
   "source": [
    "| Map                     | No. of Visited States | Problem Solution                                                       | Average Execution Time (s) |\n",
    "|-------------------------|----------------------:|------------------------------------------------------------------------|---------------------------:|\n",
    "| Map 1 - A*             |                     7 | ['U', 'D', 'D', 'U', 'L', 'R', 'R']                                   |                        0.0 |\n",
    "| Map 2 - A*             |                     6 | ['L', 'U', 'D', 'D', 'U', 'L']                                        |                        0.0 |\n",
    "| Map 3 - A*             |                    14 | ['U', 'L', 'U', 'U', 'R', 'D', 'D', 'D', 'D', 'U', 'U', 'L', 'D', 'D'] |                        0.0 |\n",
    "| Map 5 - A*             |                    32 | a path of length 29                                                   |                        0.0 |\n",
    "| Map 6 - A*             |                    75 | a path of length 75                                                   |                        0.0 |\n",
    "| Map 7 - A*             |                   NaN | NaN                                                                    |                        NaN |\n",
    "| Map 8 - A*             |                  7167 | a path of length 156                                                  |                       0.24 |\n",
    "| Map 10 - A*            |                191233 | a path of length 280                                                  |                       5.65 |\n",
    "| Map 1 - Weighted A*    |                   NaN | NaN                                                                    |                        NaN |\n",
    "| Map 2 - Weighted A*    |                   NaN | NaN                                                                    |                        NaN |\n",
    "| Map 3 - Weighted A*    |                   NaN | NaN                                                                    |                        NaN |\n",
    "| Map 5 - Weighted A*    |                   NaN | NaN                                                                    |                        NaN |\n",
    "| Map 6 - Weighted A*    |                   NaN | NaN                                                                    |                        NaN |\n",
    "| Map 7 - Weighted A*    |                   NaN | NaN                                                                    |                        NaN |\n",
    "| Map 8 - Weighted A*    |                   NaN | NaN                                                                    |                        NaN |\n",
    "| Map 9 - Weighted A*    |                   NaN | NaN                                                                    |                        NaN |\n",
    "| Map 10 - Weighted A*   |                   NaN | NaN                                                                    |                        NaN |"
   ]
  }
 ],
 "metadata": {
  "kernelspec": {
   "display_name": "searchproj",
   "language": "python",
   "name": "python3"
  },
  "language_info": {
   "codemirror_mode": {
    "name": "ipython",
    "version": 3
   },
   "file_extension": ".py",
   "mimetype": "text/x-python",
   "name": "python",
   "nbconvert_exporter": "python",
   "pygments_lexer": "ipython3",
   "version": "3.13.2"
  }
 },
 "nbformat": 4,
 "nbformat_minor": 2
}
